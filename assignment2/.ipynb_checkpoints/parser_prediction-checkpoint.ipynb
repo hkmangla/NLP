{
 "cells": [
  {
   "cell_type": "code",
   "execution_count": 1,
   "metadata": {
    "collapsed": true
   },
   "outputs": [],
   "source": [
    "import pickle\n",
    "import tensorflow as tf"
   ]
  },
  {
   "cell_type": "code",
   "execution_count": 2,
   "metadata": {
    "collapsed": true
   },
   "outputs": [],
   "source": [
    "with open('q2_test.predicted.pkl','rb') as f:\n",
    "    data = pickle.load(f)"
   ]
  },
  {
   "cell_type": "code",
   "execution_count": 69,
   "metadata": {},
   "outputs": [
    {
     "name": "stdout",
     "output_type": "stream",
     "text": [
      "INFO:tensorflow:Restoring parameters from ./data/weights/parser.weights\n"
     ]
    }
   ],
   "source": [
    "n_features = 36\n",
    "embd_size = 50\n",
    "n_classes = 3\n",
    "hidden_size = 200\n",
    "# with tf.variable_scope('parser') as scope:\n",
    "# W = tf.Variable((n_features*embd_size, hidden_size))\n",
    "#     U = tf.Variable((hidden_size, n_classes))\n",
    "#     b1 = tf.Variable((hidden_size, ))\n",
    "#     b2 = tf.Variable((n_classes, ))\n",
    "saver = tf.train.import_meta_graph('./data/weights/parser.weights.meta')\n",
    "# print saver\n",
    "sess = tf.Session()\n",
    "saver.restore(sess, './data/weights/parser.weights')\n",
    "graph = tf.get_default_graph()\n",
    "#     W = graph.get_tensor_by_name('parser/Variable_1:0')\n",
    "#     U = graph.get_tensor_by_name('Variable_2:0')\n",
    "#     print W"
   ]
  },
  {
   "cell_type": "code",
   "execution_count": 70,
   "metadata": {},
   "outputs": [],
   "source": [
    "W = graph.get_tensor_by_name('parser/Variable:0')"
   ]
  },
  {
   "cell_type": "code",
   "execution_count": 82,
   "metadata": {},
   "outputs": [],
   "source": [
    "pred = graph.get_tensor_by_name('parser/add_1:0')\n",
    "input_data = np.array([5155, 5155, 5156, 91, 113, 948, 5155, 5155, 5155, 5155, 5155, 5155, 5155, 5155, 5155, 5155, 5155,\n",
    "   5155, 83, 83, 84, 40, 41, 42, 83, 83, 83, 83, 83, 83, 83, 83, 83, 83, 83, 83])\n",
    "input_data = input_data.reshape(-1,36)"
   ]
  },
  {
   "cell_type": "code",
   "execution_count": 83,
   "metadata": {},
   "outputs": [],
   "source": [
    "input_placeholder = graph.get_tensor_by_name('Placeholder:0')\n",
    "dropout_placeholder = graph.get_tensor_by_name('Placeholder_2:0')\n",
    "feed_dict = {\n",
    "    input_placeholder : input_data,\n",
    "    dropout_placeholder : 0.5\n",
    "}\n",
    "prediction = sess.run(pred, feed_dict = feed_dict)"
   ]
  },
  {
   "cell_type": "code",
   "execution_count": 94,
   "metadata": {},
   "outputs": [
    {
     "data": {
      "text/plain": [
       "2"
      ]
     },
     "execution_count": 94,
     "metadata": {},
     "output_type": "execute_result"
    }
   ],
   "source": [
    "val = sess.run(tf.nn.softmax(prediction))\n",
    "np.argmax(val)"
   ]
  },
  {
   "cell_type": "code",
   "execution_count": 106,
   "metadata": {},
   "outputs": [
    {
     "name": "stdout",
     "output_type": "stream",
     "text": [
      "No , it was n't Black Monday . But while the New York Stock Exchange did n't fall apart Friday as the Dow Jones Industrial Average plunged 190.58 points -- most of it in the final hour -- it barely managed to stay this side of chaos . Some `` circuit breakers '' installed after the October 1987 crash failed their first test , traders say , unable to cool the selling panic in both stocks and futures . The 49 stock specialist firms on the Big Board floor -- the buyers and sellers of last resort who were criticized after the 1987 crash -- once again could n't handle the selling pressure . Big investment banks refused to step up to the plate to support the beleaguered floor traders by buying big blocks of stock , traders say . Heavy selling of Standard & Poor 's 500-stock index futures in Chicago relentlessly beat stocks downward . Seven Big Board stocks -- UAL , AMR , BankAmerica , Walt Disney , Capital Cities/ABC , Philip Morris and Pacific Telesis Group -- stopped trading and never resumed . The finger-pointing has already begun . `` The equity market was illiquid . Once\n"
     ]
    }
   ],
   "source": [
    "with open('./data/test.conll') as f:\n",
    "    n = 0\n",
    "    for line in f.readlines():\n",
    "        sp = line.strip().split('\\t')\n",
    "        if len(sp) > 2:\n",
    "            print sp[1],\n",
    "            if n == 200:\n",
    "                break\n",
    "            n += 1"
   ]
  }
 ],
 "metadata": {
  "kernelspec": {
   "display_name": "Python 2",
   "language": "python",
   "name": "python2"
  },
  "language_info": {
   "codemirror_mode": {
    "name": "ipython",
    "version": 2
   },
   "file_extension": ".py",
   "mimetype": "text/x-python",
   "name": "python",
   "nbconvert_exporter": "python",
   "pygments_lexer": "ipython2",
   "version": "2.7.14"
  }
 },
 "nbformat": 4,
 "nbformat_minor": 2
}
